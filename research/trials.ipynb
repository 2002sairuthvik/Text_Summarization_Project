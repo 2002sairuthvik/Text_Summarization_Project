{
 "cells": [
  {
   "cell_type": "code",
   "execution_count": 1,
   "id": "31ab2b24",
   "metadata": {},
   "outputs": [],
   "source": [
    "d = {\"key\" : \"value\", \"k\" : \"v\"}"
   ]
  },
  {
   "cell_type": "code",
   "execution_count": 2,
   "id": "ab66c684",
   "metadata": {},
   "outputs": [
    {
     "data": {
      "text/plain": [
       "'v'"
      ]
     },
     "execution_count": 2,
     "metadata": {},
     "output_type": "execute_result"
    }
   ],
   "source": [
    "d['k']"
   ]
  },
  {
   "cell_type": "code",
   "execution_count": null,
   "id": "675ce2ec",
   "metadata": {},
   "outputs": [],
   "source": []
  }
 ],
 "metadata": {
  "kernelspec": {
   "display_name": "ts",
   "language": "python",
   "name": "python3"
  },
  "language_info": {
   "codemirror_mode": {
    "name": "ipython",
    "version": 3
   },
   "file_extension": ".py",
   "mimetype": "text/x-python",
   "name": "python",
   "nbconvert_exporter": "python",
   "pygments_lexer": "ipython3",
   "version": "3.11.13"
  }
 },
 "nbformat": 4,
 "nbformat_minor": 5
}
